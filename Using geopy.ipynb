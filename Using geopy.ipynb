{
 "cells": [
  {
   "cell_type": "code",
   "execution_count": 1,
   "id": "af722d84",
   "metadata": {},
   "outputs": [],
   "source": [
    "import geopy"
   ]
  },
  {
   "cell_type": "markdown",
   "id": "bf3a4668",
   "metadata": {},
   "source": [
    "# Geocoders"
   ]
  },
  {
   "cell_type": "code",
   "execution_count": null,
   "id": "39346083",
   "metadata": {},
   "outputs": [],
   "source": [
    "# from geopy.geocoders import Nominatim\n",
    "\n",
    "# geolocator = Nominatim()\n",
    "# location = geolocator.geocode(\"175 5th Avenue NYC\")"
   ]
  },
  {
   "cell_type": "markdown",
   "id": "eeab7b92",
   "metadata": {},
   "source": [
    "# Data"
   ]
  },
  {
   "cell_type": "markdown",
   "id": "d757d1e8",
   "metadata": {},
   "source": [
    "1. Location:\n",
    "a. location\n",
    "b. altitude\n",
    "c. latitude\n",
    "d. longitude\n",
    "e. point\n",
    "f. raw\n",
    "\n",
    "2. Point: The reference level is never considered and is thus application dependent\n",
    "a. format() : Format decimal degrees (DD) to degrees minutes seconds (DMS)\n",
    "b. parse_*()\n",
    "c. from_*()\n",
    "\n",
    "3. Timezone"
   ]
  },
  {
   "cell_type": "markdown",
   "id": "73a99f8d",
   "metadata": {},
   "source": [
    "# Units"
   ]
  },
  {
   "cell_type": "markdown",
   "id": "9be5dbbb",
   "metadata": {},
   "source": [
    "1. arcmin / arcminutes : angle to arcmins\n",
    "2. arcsec / arcseconds : angle to arcsecs\n",
    "3. degrees : angle to deg\n",
    "4. feet / ft : distance to ft\n",
    "5. kilometers / km : distance to km\n",
    "6. meters / m : distance to m\n",
    "7. miles / mi : distance to mi\n",
    "8. nautical / nm : distance to nms\n",
    "9. radians / rad : angle to rad"
   ]
  },
  {
   "cell_type": "markdown",
   "id": "f6fda343",
   "metadata": {},
   "source": []
  }
 ],
 "metadata": {
  "kernelspec": {
   "display_name": "base",
   "language": "python",
   "name": "python3"
  },
  "language_info": {
   "codemirror_mode": {
    "name": "ipython",
    "version": 3
   },
   "file_extension": ".py",
   "mimetype": "text/x-python",
   "name": "python",
   "nbconvert_exporter": "python",
   "pygments_lexer": "ipython3",
   "version": "3.13.5"
  }
 },
 "nbformat": 4,
 "nbformat_minor": 5
}
